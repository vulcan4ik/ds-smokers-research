{
 "cells": [
  {
   "cell_type": "code",
   "execution_count": 1,
   "id": "01899901-2090-428f-9d49-e4c890f2d48c",
   "metadata": {},
   "outputs": [],
   "source": [
    "import jupyter_black"
   ]
  },
  {
   "cell_type": "code",
   "execution_count": 2,
   "id": "71872e11-f74b-438c-a2c1-54c6d682a55d",
   "metadata": {},
   "outputs": [],
   "source": [
    "jupyter_black.load()"
   ]
  },
  {
   "cell_type": "code",
   "execution_count": 3,
   "id": "7a29c44f-8bdc-4aaf-871a-6017f51c7370",
   "metadata": {},
   "outputs": [],
   "source": [
    "# помощник писать код\n",
    "import jupyter_black\n",
    "\n",
    "jupyter_black.load()\n",
    "\n",
    "# импорты основных библиотек\n",
    "import pandas as pd\n",
    "import numpy as np\n",
    "import matplotlib.pyplot as plt\n",
    "import seaborn as sns\n",
    "import plotly.express as px\n",
    "from scipy import stats\n",
    "import sklearn.metrics as metrics\n",
    "\n",
    "from sklearn.model_selection import train_test_split, StratifiedKFold\n",
    "from sklearn.ensemble import RandomForestClassifier\n",
    "from sklearn.metrics import accuracy_score, precision_score, recall_score\n",
    "from sklearn.metrics import f1_score, roc_auc_score, precision_recall_curve\n",
    "from sklearn.utils.class_weight import compute_class_weight\n",
    "from sklearn.metrics import (\n",
    "    classification_report,\n",
    "    PrecisionRecallDisplay,\n",
    "    RocCurveDisplay,\n",
    ")\n",
    "\n",
    "from catboost import CatBoostClassifier\n",
    "from catboost import Pool\n",
    "\n",
    "\n",
    "# для анализа зависимостей между признаками\n",
    "import phik\n",
    "from phik.report import plot_correlation_matrix\n",
    "\n",
    "import warnings\n",
    "\n",
    "\n",
    "# поможет раскрасить датафрейм\n",
    "from matplotlib.colors import LinearSegmentedColormap"
   ]
  },
  {
   "cell_type": "code",
   "execution_count": 8,
   "id": "205e2fe9-8423-46e0-ab7a-ef9eb831e612",
   "metadata": {},
   "outputs": [
    {
     "ename": "TypeError",
     "evalue": "'int' object is not subscriptable",
     "output_type": "error",
     "traceback": [
      "\u001b[0;31m---------------------------------------------------------------------------\u001b[0m",
      "\u001b[0;31mTypeError\u001b[0m                                 Traceback (most recent call last)",
      "Cell \u001b[0;32mIn[8], line 2\u001b[0m\n\u001b[1;32m      1\u001b[0m \u001b[38;5;28;01mfor\u001b[39;00m n \u001b[38;5;129;01min\u001b[39;00m \u001b[38;5;28mrange\u001b[39m(\u001b[38;5;28mlen\u001b[39m(people)):\n\u001b[0;32m----> 2\u001b[0m     \u001b[38;5;28mprint\u001b[39m(\u001b[43mpeople\u001b[49m\u001b[43m[\u001b[49m\u001b[43mn\u001b[49m\u001b[43m]\u001b[49m\u001b[43m[\u001b[49m\u001b[38;5;241;43m0\u001b[39;49m\u001b[43m]\u001b[49m, people[n][\u001b[38;5;241m1\u001b[39m])\n",
      "\u001b[0;31mTypeError\u001b[0m: 'int' object is not subscriptable"
     ]
    }
   ],
   "source": [
    "for n in range(len(people)):\n",
    "    print(people[n][0], people[n][1])"
   ]
  },
  {
   "cell_type": "code",
   "execution_count": 7,
   "id": "455d1761-8388-4e74-8058-29f090e24ace",
   "metadata": {},
   "outputs": [],
   "source": [
    "people = [10, 20]"
   ]
  },
  {
   "cell_type": "code",
   "execution_count": 8,
   "id": "ca88c5f4-72eb-4d76-a661-9da79d887df0",
   "metadata": {},
   "outputs": [
    {
     "name": "stdout",
     "output_type": "stream",
     "text": [
      "✅ jupyter_black загружен!\n"
     ]
    }
   ],
   "source": [
    "# Проверка 1: Импорт jupyter_black\n",
    "import jupyter_black\n",
    "\n",
    "jupyter_black.load()\n",
    "print(\"✅ jupyter_black загружен!\")\n",
    "\n",
    "\n",
    "# Проверка 2: Тест форматирования\n",
    "def test_function(x, y, z):\n",
    "    return x + y + z\n",
    "\n",
    "\n",
    "# После выполнения ячейки код должен автоматически стать:\n",
    "def test_function(x, y, z):\n",
    "    return x + y + z"
   ]
  },
  {
   "cell_type": "code",
   "execution_count": 11,
   "id": "03f0e733-6f4f-4381-9e4b-f9dec1bcd400",
   "metadata": {},
   "outputs": [
    {
     "name": "stdout",
     "output_type": "stream",
     "text": [
      "Name: python-lsp-server\n",
      "Version: 1.13.1\n",
      "Summary: Python Language Server for the Language Server Protocol\n",
      "Home-page: \n",
      "Author: Python Language Server Contributors\n",
      "Author-email: \n",
      "License: MIT\n",
      "Location: /opt/conda/lib/python3.11/site-packages\n",
      "Requires: black, docstring-to-markdown, jedi, pluggy, python-lsp-jsonrpc, ujson\n",
      "Required-by: \n",
      "Note: you may need to restart the kernel to use updated packages.\n"
     ]
    }
   ],
   "source": [
    "pip show python-lsp-server"
   ]
  },
  {
   "cell_type": "code",
   "execution_count": 10,
   "id": "2e4a379c-9593-4dbb-b9aa-99cd26e4e3b4",
   "metadata": {},
   "outputs": [
    {
     "ename": "SyntaxError",
     "evalue": "invalid syntax (3654186813.py, line 1)",
     "output_type": "error",
     "traceback": [
      "\u001b[0;36m  Cell \u001b[0;32mIn[10], line 1\u001b[0;36m\u001b[0m\n\u001b[0;31m    jupyter labextension list\u001b[0m\n\u001b[0m            ^\u001b[0m\n\u001b[0;31mSyntaxError\u001b[0m\u001b[0;31m:\u001b[0m invalid syntax\n"
     ]
    }
   ],
   "source": [
    "jupyter labextension list"
   ]
  },
  {
   "cell_type": "code",
   "execution_count": null,
   "id": "1f593b1f-363b-421c-ba23-03a01c758013",
   "metadata": {},
   "outputs": [],
   "source": []
  },
  {
   "cell_type": "code",
   "execution_count": null,
   "id": "b8c6dcef-3823-4bdf-bb0d-a56e74eb81f3",
   "metadata": {},
   "outputs": [],
   "source": []
  }
 ],
 "metadata": {
  "kernelspec": {
   "display_name": "Python 3 (ipykernel)",
   "language": "python",
   "name": "python3"
  },
  "language_info": {
   "codemirror_mode": {
    "name": "ipython",
    "version": 3
   },
   "file_extension": ".py",
   "mimetype": "text/x-python",
   "name": "python",
   "nbconvert_exporter": "python",
   "pygments_lexer": "ipython3",
   "version": "3.11.6"
  }
 },
 "nbformat": 4,
 "nbformat_minor": 5
}
